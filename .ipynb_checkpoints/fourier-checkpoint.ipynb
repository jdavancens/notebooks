{
 "cells": [
  {
   "cell_type": "markdown",
   "metadata": {},
   "source": [
    "# Notes on Fourier analysis"
   ]
  },
  {
   "cell_type": "code",
   "execution_count": 1,
   "metadata": {
    "collapsed": true
   },
   "outputs": [],
   "source": [
    "import numpy as np"
   ]
  },
  {
   "cell_type": "markdown",
   "metadata": {},
   "source": [
    "## Greek letters and signal processing usage\n",
    "$\\gamma$, gamma (angle)\n",
    "\n",
    "$\\omega$, omega (frequency)\n",
    "\n",
    "$\\varphi$, phi (phase)\n",
    "\n",
    "\n",
    "## A sinusoidal function\n",
    "Any signal can be represented as the sum of sinusoids\n",
    "\n",
    "$ A = \\text{amplitude} $\n",
    "\n",
    "$ \\omega = \\text{frequency (in Hz)}$\n",
    "\n",
    "$ \\varphi = \\text{phase (in normalized radians [0,1))}$\n",
    "\n",
    "$ g(t) := A \\sin(2\\pi(\\omega t-\\varphi)) $\n",
    "\n",
    "### Normalized with respect to power\n",
    "Normalize power by taking the square root of the amplitude and using a cosine function\n",
    "\n",
    "$$ g(t) := \\sqrt{2}\\cos(2\\pi(\\omega t - \\varphi) $$\n",
    "\n",
    "## Comparing signal similarity by integration\n",
    "Greater area under the curve means greater similarity\n",
    "\n",
    "$$ \\int_{t\\in\\mathbb{R}}   f(t) \\cdot g(t) dt $$\n",
    "\n",
    "### Basic Fourier transform\n",
    "*Requires an optimization step – computing the maxima of the integral and it's arguments.*\n",
    "\n",
    "$ f = \\text{the original signal} $\n",
    "\n",
    "$\\cos_{\\omega, \\varphi} = \\text{the sinusoid} $\n",
    "\n",
    "The magnitude coefficient $d_\\omega$ expresses the **intensity of frequency $\\omega$ within the signal $f$**.\n",
    "\n",
    "The phase coefficient $\\varphi_\\omega$ tells us how the sinusoid at frequency $\\omega$ needs to be **displaced in time to best fit the signal $f$.**\n",
    "\n",
    "$$ d_\\omega := \\max_{\\varphi \\in [0,1)} \\left( \\int_{t \\in \\mathbb{R}} f(t) \\cos_{\\omega, \\varphi}(t)dt \\right) $$\n",
    "\n",
    "\n",
    "$$ \\varphi_\\omega := \\underset{\\varphi \\in [0,1)}{\\arg\\max} \\left(  \\int_{t \\in \\mathbb{R}} f(t) \\cos_{\\omega, \\varphi} (t)dt \\right) $$\n",
    "\n",
    "### Review of complex numbers\n",
    "$$ i = \\sqrt{-1}$$\n",
    "$$ i^2 = -1 $$\n",
    "A complex number *c* can be written as $$ c = a+bi $$ where $ a \\in \\mathbb{R} $ is the real part and $ b \\in \\mathbb{R} $ is the imaginary part.\n",
    "\n",
    "$ \\mathbb{C} $ is the set of all complex numbers.\n",
    "\n",
    "The complex numbers can be represented as a 2D plane, with real and imaginary axes. A complex number $c=a+bi$ can then be represented as a **Cartesian coordinate** $c = (a,b)$\n",
    "\n",
    "Complex numbers can also be represented with **polar coordinates**. A complex number can be described this way with the distance from the origin $$ |c| := \\sqrt{a^2+b^2}$$ and the angle between the positive horizontal axis and the line connecting *c* to the origin $$ \\gamma := \\arctan(b,a) $$"
   ]
  },
  {
   "cell_type": "code",
   "execution_count": null,
   "metadata": {
    "collapsed": true
   },
   "outputs": [],
   "source": []
  }
 ],
 "metadata": {
  "kernelspec": {
   "display_name": "Python 2",
   "language": "python",
   "name": "python2"
  },
  "language_info": {
   "codemirror_mode": {
    "name": "ipython",
    "version": 2
   },
   "file_extension": ".py",
   "mimetype": "text/x-python",
   "name": "python",
   "nbconvert_exporter": "python",
   "pygments_lexer": "ipython2",
   "version": "2.7.11"
  }
 },
 "nbformat": 4,
 "nbformat_minor": 0
}
