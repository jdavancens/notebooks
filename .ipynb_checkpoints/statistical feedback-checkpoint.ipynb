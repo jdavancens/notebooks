{
 "cells": [
  {
   "cell_type": "code",
   "execution_count": 1,
   "metadata": {
    "collapsed": true
   },
   "outputs": [],
   "source": [
    "from abjad import *"
   ]
  },
  {
   "cell_type": "code",
   "execution_count": 4,
   "metadata": {
    "collapsed": false
   },
   "outputs": [],
   "source": [
    "class StatisticalFeedback():\n",
    "    __slots__ = (\n",
    "        '_elements', \n",
    "        '_weights', \n",
    "        '_counts'\n",
    "    )\n",
    "    def __init__(\n",
    "        self,\n",
    "        elements=range(0,12),\n",
    "        weights=[1.] * 12,\n",
    "    ):\n",
    "        self._elements = elements\n",
    "        self._weights = [1.] * len(elements)\n",
    "        self._counts = [1] * len(elements)\n",
    "        \n",
    "    def __call__(self):\n",
    "        from random import random\n",
    "        p = self._compute_probabilities()\n",
    "        c = self._cumulative(p)\n",
    "        n = self._normalized(c)\n",
    "        x = random()\n",
    "        i = self._lookup(x, n)\n",
    "        for x in self._counts: x += 1\n",
    "        self._counts[i] = 0        \n",
    "        self._history.append(i)\n",
    "        return self._elements[i]\n",
    "\n",
    "    def _compute_probabilities():\n",
    "        p = [0.] * len(self._elements)\n",
    "        for i in range(len(self._elements)):\n",
    "            w = self._weights[i]\n",
    "            c = self._counts[i]\n",
    "            f = pow(4, e)\n",
    "            a = w * f(c)\n",
    "            b = sum(self._weights) * sum([f(c) for c in self._counts])\n",
    "            p[i] = a/b\n",
    "        \n",
    "    def _cumulative(l):\n",
    "        c = []\n",
    "        summ = 0\n",
    "        for x in l:\n",
    "            y = x + summ\n",
    "            summ = y\n",
    "            c.append(y)\n",
    "        return c\n",
    "    \n",
    "    def _lookup(x, l):\n",
    "        for p in l:\n",
    "            if x <= p:\n",
    "                return p\n",
    "            \n",
    "    def _normalized(l):\n",
    "        n = []\n",
    "        summ = float(sum(l))\n",
    "        for x in l:\n",
    "            n.append(x / summ)\n",
    "        return n"
   ]
  },
  {
   "cell_type": "code",
   "execution_count": 5,
   "metadata": {
    "collapsed": true
   },
   "outputs": [],
   "source": [
    "sfb = StatisticalFeedback()"
   ]
  },
  {
   "cell_type": "code",
   "execution_count": 6,
   "metadata": {
    "collapsed": false
   },
   "outputs": [
    {
     "ename": "TypeError",
     "evalue": "__call__() takes no arguments (1 given)",
     "output_type": "error",
     "traceback": [
      "\u001b[0;31m---------------------------------------------------------------------------\u001b[0m",
      "\u001b[0;31mTypeError\u001b[0m                                 Traceback (most recent call last)",
      "\u001b[0;32m<ipython-input-6-6cde5c59c918>\u001b[0m in \u001b[0;36m<module>\u001b[0;34m()\u001b[0m\n\u001b[1;32m      1\u001b[0m \u001b[0;32mfor\u001b[0m \u001b[0mi\u001b[0m \u001b[0;32min\u001b[0m \u001b[0mrange\u001b[0m\u001b[0;34m(\u001b[0m\u001b[0;36m100\u001b[0m\u001b[0;34m)\u001b[0m\u001b[0;34m:\u001b[0m\u001b[0;34m\u001b[0m\u001b[0m\n\u001b[0;32m----> 2\u001b[0;31m     \u001b[0mx\u001b[0m \u001b[0;34m=\u001b[0m \u001b[0msfb\u001b[0m\u001b[0;34m(\u001b[0m\u001b[0;34m)\u001b[0m\u001b[0;34m\u001b[0m\u001b[0m\n\u001b[0m",
      "\u001b[0;31mTypeError\u001b[0m: __call__() takes no arguments (1 given)"
     ]
    }
   ],
   "source": [
    "for i in range(100):\n",
    "    x = sfb()"
   ]
  },
  {
   "cell_type": "code",
   "execution_count": null,
   "metadata": {
    "collapsed": true
   },
   "outputs": [],
   "source": []
  }
 ],
 "metadata": {
  "kernelspec": {
   "display_name": "Python 2",
   "language": "python",
   "name": "python2"
  },
  "language_info": {
   "codemirror_mode": {
    "name": "ipython",
    "version": 2
   },
   "file_extension": ".py",
   "mimetype": "text/x-python",
   "name": "python",
   "nbconvert_exporter": "python",
   "pygments_lexer": "ipython2",
   "version": "2.7.11"
  }
 },
 "nbformat": 4,
 "nbformat_minor": 0
}
