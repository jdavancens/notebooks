{
 "cells": [
  {
   "cell_type": "code",
   "execution_count": 2,
   "metadata": {
    "collapsed": false
   },
   "outputs": [],
   "source": [
    "from abjad import *\n",
    "%load_ext abjad.ext.ipython\n",
    "import matplotlib as mpl\n",
    "from mpl_toolkits.mplot3d import Axes3D\n",
    "import matplotlib.pyplot as plt\n",
    "%matplotlib inline\n",
    "import itertools,random\n"
   ]
  },
  {
   "cell_type": "markdown",
   "metadata": {},
   "source": [
    "# Represent a ratio as a product of exponentiated prime factors\n",
    "$$ r=2^p3^q5^r$$"
   ]
  },
  {
   "cell_type": "code",
   "execution_count": 3,
   "metadata": {
    "collapsed": false
   },
   "outputs": [],
   "source": [
    "def prime_product(p1,p2,p3):\n",
    "    return (2**p1) * (3**p2) * (5**p3)"
   ]
  },
  {
   "cell_type": "code",
   "execution_count": 4,
   "metadata": {
    "collapsed": false
   },
   "outputs": [
    {
     "name": "stdout",
     "output_type": "stream",
     "text": [
      "0.0\n",
      "0.0\n",
      "0.0\n",
      "0.0\n",
      "1.0\n",
      "0.0\n",
      "0.0\n",
      "0.0\n",
      "0.0\n",
      "2.0\n",
      "0.0\n",
      "0.0\n",
      "0.0\n",
      "1.0\n",
      "6.0\n",
      "0.0\n",
      "0.0\n",
      "1.0\n",
      "4.0\n",
      "19.0\n",
      "0.0\n",
      "0.0\n",
      "2.0\n",
      "11.0\n",
      "56.0\n",
      "0.0\n",
      "0.0\n",
      "0.0\n",
      "0.0\n",
      "1.0\n",
      "0.0\n",
      "0.0\n",
      "0.0\n",
      "1.0\n",
      "4.0\n",
      "0.0\n",
      "0.0\n",
      "1.0\n",
      "3.0\n",
      "13.0\n",
      "0.0\n",
      "0.0\n",
      "2.0\n",
      "8.0\n",
      "38.0\n",
      "0.0\n",
      "1.0\n",
      "5.0\n",
      "23.0\n",
      "113.0\n",
      "0.0\n",
      "0.0\n",
      "0.0\n",
      "1.0\n",
      "3.0\n",
      "0.0\n",
      "0.0\n",
      "0.0\n",
      "2.0\n",
      "8.0\n",
      "0.0\n",
      "0.0\n",
      "1.0\n",
      "5.0\n",
      "25.0\n",
      "0.0\n",
      "1.0\n",
      "3.0\n",
      "15.0\n",
      "75.0\n",
      "0.0\n",
      "2.0\n",
      "9.0\n",
      "45.0\n",
      "225.0\n",
      "0.0\n",
      "0.0\n",
      "0.0\n",
      "1.0\n",
      "6.0\n",
      "0.0\n",
      "0.0\n",
      "1.0\n",
      "3.0\n",
      "17.0\n",
      "0.0\n",
      "0.0\n",
      "2.0\n",
      "10.0\n",
      "50.0\n",
      "0.0\n",
      "1.0\n",
      "6.0\n",
      "30.0\n",
      "150.0\n",
      "1.0\n",
      "4.0\n",
      "18.0\n",
      "90.0\n",
      "450.0\n",
      "0.0\n",
      "0.0\n",
      "0.0\n",
      "2.0\n",
      "11.0\n",
      "0.0\n",
      "0.0\n",
      "1.0\n",
      "7.0\n",
      "33.0\n",
      "0.0\n",
      "1.0\n",
      "4.0\n",
      "20.0\n",
      "100.0\n",
      "0.0\n",
      "2.0\n",
      "12.0\n",
      "60.0\n",
      "300.0\n",
      "1.0\n",
      "7.0\n",
      "36.0\n",
      "180.0\n",
      "900.0\n"
     ]
    }
   ],
   "source": [
    "powers = range(-2,3)\n",
    "cartesian_products = [cp for cp in itertools.product(powers, repeat=3)]\n",
    "for cp in cartesian_products:\n",
    "    pp = prime_product(cp[0], cp[1], cp[2])\n",
    "    print(round(pp))"
   ]
  },
  {
   "cell_type": "code",
   "execution_count": null,
   "metadata": {
    "collapsed": true
   },
   "outputs": [],
   "source": []
  }
 ],
 "metadata": {
  "kernelspec": {
   "display_name": "Python 2",
   "language": "python",
   "name": "python2"
  },
  "language_info": {
   "codemirror_mode": {
    "name": "ipython",
    "version": 2
   },
   "file_extension": ".py",
   "mimetype": "text/x-python",
   "name": "python",
   "nbconvert_exporter": "python",
   "pygments_lexer": "ipython2",
   "version": "2.7.11"
  }
 },
 "nbformat": 4,
 "nbformat_minor": 0
}
