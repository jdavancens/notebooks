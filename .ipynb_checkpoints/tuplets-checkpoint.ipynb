{
 "cells": [
  {
   "cell_type": "code",
   "execution_count": 116,
   "metadata": {
    "collapsed": false
   },
   "outputs": [
    {
     "name": "stdout",
     "output_type": "stream",
     "text": [
      "The abjad.ext.ipython extension is already loaded. To reload it, use:\n",
      "  %reload_ext abjad.ext.ipython\n"
     ]
    }
   ],
   "source": [
    "import random\n",
    "from abjad import *\n",
    "%load_ext abjad.ext.ipython\n",
    "rnd = random.randint\n",
    "choice = random.choice"
   ]
  },
  {
   "cell_type": "code",
   "execution_count": 117,
   "metadata": {
    "collapsed": false
   },
   "outputs": [],
   "source": [
    "beam_specifier = rhythmmakertools.BeamSpecifier(\n",
    "    beam_each_division=True,\n",
    "    beam_divisions_together=False,\n",
    "    use_feather_beams=False,\n",
    ")"
   ]
  },
  {
   "cell_type": "code",
   "execution_count": 118,
   "metadata": {
    "collapsed": false
   },
   "outputs": [],
   "source": [
    "duration_spelling_specifier = rhythmmakertools.DurationSpellingSpecifier(\n",
    "    decrease_durations_monotonically=True,\n",
    "    forbid_meter_rewriting=False,\n",
    "    forbidden_written_duration=None,\n",
    "    rewrite_meter=True,\n",
    "    spell_metrically='unassignable'\n",
    ")"
   ]
  },
  {
   "cell_type": "code",
   "execution_count": 119,
   "metadata": {
    "collapsed": true
   },
   "outputs": [],
   "source": [
    "tie_specifier = rhythmmakertools.TieSpecifier(\n",
    "    strip_ties=False,\n",
    "    tie_across_divisions=False,\n",
    "    use_messiaen_style_ties=True,\n",
    ")"
   ]
  },
  {
   "cell_type": "code",
   "execution_count": 120,
   "metadata": {
    "collapsed": true
   },
   "outputs": [],
   "source": [
    "tuplet_spelling_specifier = rhythmmakertools.TupletSpellingSpecifier(\n",
    "    avoid_dots=True, \n",
    "    flatten_trivial_tuplets=True,\n",
    "    is_diminution=True,\n",
    "    rewrite_rest_filled_tuplets=True,\n",
    "    simplify_redundant_tuplets=True,\n",
    "    use_note_duration_bracket=False\n",
    ")"
   ]
  },
  {
   "cell_type": "code",
   "execution_count": 121,
   "metadata": {
    "collapsed": false
   },
   "outputs": [],
   "source": [
    "silence_mask = rhythmmakertools.SilenceMask(\n",
    "    pattern=patterntools.Pattern(indices=[1,4],period=5),\n",
    ")"
   ]
  },
  {
   "cell_type": "code",
   "execution_count": 122,
   "metadata": {
    "collapsed": false
   },
   "outputs": [],
   "source": [
    "sustain_mask = rhythmmakertools.SustainMask(\n",
    "    pattern=patterntools.Pattern(indices=[3],period=5),\n",
    ")"
   ]
  },
  {
   "cell_type": "code",
   "execution_count": 123,
   "metadata": {
    "collapsed": false
   },
   "outputs": [],
   "source": [
    "measures = [TimeSignature(x) for x in [(2,8),(3,8),(2,4),(5,8),(3,4)]]"
   ]
  },
  {
   "cell_type": "code",
   "execution_count": 124,
   "metadata": {
    "collapsed": false
   },
   "outputs": [],
   "source": [
    "Nrf = mathtools.NonreducedFraction\n",
    "durations = [Nrf(measure).with_denominator(16) for measure in measures]"
   ]
  },
  {
   "cell_type": "code",
   "execution_count": 125,
   "metadata": {
    "collapsed": true
   },
   "outputs": [],
   "source": [
    "def ones(n):\n",
    "    return [1] * n"
   ]
  },
  {
   "cell_type": "code",
   "execution_count": 145,
   "metadata": {
    "collapsed": true
   },
   "outputs": [],
   "source": [
    "def incised(n):\n",
    "    if n==1:\n",
    "        l = [1]\n",
    "    elif n==2:\n",
    "        l = [1,1]\n",
    "    else:\n",
    "        l = [1]\n",
    "        l.append(n-3)\n",
    "        l.append(1)\n",
    "    return l"
   ]
  },
  {
   "cell_type": "code",
   "execution_count": 126,
   "metadata": {
    "collapsed": true
   },
   "outputs": [],
   "source": [
    "def superparticular_incised(n):\n",
    "    if n == 1: return [1,1]\n",
    "    if n == 2: return [1,1,1]\n",
    "    else:\n",
    "        l = [1]\n",
    "        l.append(n-1)\n",
    "        l.append(1)\n",
    "        return l"
   ]
  },
  {
   "cell_type": "code",
   "execution_count": 127,
   "metadata": {
    "collapsed": true
   },
   "outputs": [],
   "source": [
    "def subparticular_incised(n):\n",
    "    if n == 1: return [1]\n",
    "    elif n == 2: return [1]\n",
    "    elif n == 3: return [1,1]\n",
    "    else:\n",
    "        l = [1]\n",
    "        l.append(n-3)\n",
    "        l.append(1)\n",
    "        return l"
   ]
  },
  {
   "cell_type": "code",
   "execution_count": 128,
   "metadata": {
    "collapsed": false
   },
   "outputs": [
    {
     "name": "stdout",
     "output_type": "stream",
     "text": [
      "[[1, 3, 1], [1, 5, 1], [1, 7, 1], [1, 9, 1], [1, 11, 1]]\n"
     ]
    }
   ],
   "source": [
    "ratios = [superparticular_incised(d.numerator) for d in durations]\n",
    "print(ratios)"
   ]
  },
  {
   "cell_type": "code",
   "execution_count": 129,
   "metadata": {
    "collapsed": false
   },
   "outputs": [],
   "source": [
    "maker = rhythmmakertools.TupletRhythmMaker(\n",
    "    tuplet_ratios=ratios,\n",
    "    beam_specifier=beam_specifier,\n",
    "    duration_spelling_specifier=duration_spelling_specifier,\n",
    "    preferred_denominator=None,\n",
    "    tie_specifier=tie_specifier,\n",
    "    tuplet_spelling_specifier=tuplet_spelling_specifier,\n",
    ")"
   ]
  },
  {
   "cell_type": "code",
   "execution_count": 130,
   "metadata": {
    "collapsed": false
   },
   "outputs": [],
   "source": [
    "music = maker(measures)"
   ]
  },
  {
   "cell_type": "code",
   "execution_count": 131,
   "metadata": {
    "collapsed": true
   },
   "outputs": [],
   "source": [
    "staff = Staff()"
   ]
  },
  {
   "cell_type": "code",
   "execution_count": 132,
   "metadata": {
    "collapsed": false
   },
   "outputs": [],
   "source": [
    "for chunk,ts in zip(music,measures):\n",
    "    measure = Measure(ts, chunk)\n",
    "    staff.append(measure)"
   ]
  },
  {
   "cell_type": "code",
   "execution_count": 133,
   "metadata": {
    "collapsed": false
   },
   "outputs": [
    {
     "data": {
      "image/png": "[encoded data removed]"
     },
     "metadata": {},
     "output_type": "display_data"
    }
   ],
   "source": [
    "show(staff)"
   ]
  },
  {
   "cell_type": "markdown",
   "metadata": {
    "collapsed": true
   },
   "source": [
    "categories of tuplet prolation ratio:\n",
    "* augmentation \n",
    "* superparticular\n",
    "* trivial\n",
    "* subparticular\n",
    "* diminution\n",
    "    \n",
    "categories of timespan ratios:\n",
    "* symmetric, asymmetric\n",
    "* ordered\n",
    "    * ascending\n",
    "    * descending\n",
    "* lopsidedness\n",
    "\n",
    "filters:\n",
    "* all elements unique\n",
    "* length\n",
    "* 'symmetric'\n",
    "* shape\n",
    "    * '|'\n",
    "    * '<'\n",
    "    * '>'\n",
    "    * '<>'\n",
    "    * '><'"
   ]
  },
  {
   "cell_type": "markdown",
   "metadata": {},
   "source": [
    "# Each positive integer $n$ has $2^{n−1}$ distinct compositions."
   ]
  },
  {
   "cell_type": "markdown",
   "metadata": {},
   "source": [
    "The sixteen compositions of 5 ( $ 2^{5-1} = 2^{4} = 16 $ ) are:\n",
    "* 5\n",
    "* 4 + 1\n",
    "* 3 + 2\n",
    "* 3 + 1 + 1\n",
    "* 2 + 3\n",
    "* 2 + 2 + 1\n",
    "* 2 + 1 + 2\n",
    "* 2 + 1 + 1 + 1\n",
    "* 1 + 4\n",
    "* 1 + 3 + 1\n",
    "* 1 + 2 + 2\n",
    "* 1 + 2 + 1 + 1\n",
    "* 1 + 1 + 3\n",
    "* 1 + 1 + 2 + 1\n",
    "* 1 + 1 + 1 + 2\n",
    "* 1 + 1 + 1 + 1 + 1"
   ]
  },
  {
   "cell_type": "code",
   "execution_count": null,
   "metadata": {
    "collapsed": true
   },
   "outputs": [],
   "source": []
  }
 ],
 "metadata": {
  "kernelspec": {
   "display_name": "Python 2",
   "language": "python",
   "name": "python2"
  },
  "language_info": {
   "codemirror_mode": {
    "name": "ipython",
    "version": 2
   },
   "file_extension": ".py",
   "mimetype": "text/x-python",
   "name": "python",
   "nbconvert_exporter": "python",
   "pygments_lexer": "ipython2",
   "version": "2.7.11"
  }
 },
 "nbformat": 4,
 "nbformat_minor": 0
}
