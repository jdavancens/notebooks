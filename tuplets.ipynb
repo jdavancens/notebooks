{
 "cells": [
  {
   "cell_type": "markdown",
   "metadata": {},
   "source": [
    "# On tuplets"
   ]
  },
  {
   "cell_type": "markdown",
   "metadata": {},
   "source": [
    "The ratios of a subdivided timespan can be thought of as an integer composition.\n",
    "\n",
    "Each positive integer $n$ has $2^{n−1}$ distinct compositions.\n",
    "\n",
    "The sixteen compositions of 5 ( $ 2^{5-1} = 2^{4} = 16 $ ) are:\n",
    "* 5\n",
    "* 4 + 1\n",
    "* 3 + 2\n",
    "* 3 + 1 + 1\n",
    "* 2 + 3\n",
    "* 2 + 2 + 1\n",
    "* 2 + 1 + 2\n",
    "* 2 + 1 + 1 + 1\n",
    "* 1 + 4\n",
    "* 1 + 3 + 1\n",
    "* 1 + 2 + 2\n",
    "* 1 + 2 + 1 + 1\n",
    "* 1 + 1 + 3\n",
    "* 1 + 1 + 2 + 1\n",
    "* 1 + 1 + 1 + 2\n",
    "* 1 + 1 + 1 + 1 + 1"
   ]
  },
  {
   "cell_type": "markdown",
   "metadata": {
    "collapsed": true
   },
   "source": [
    "In order to make decisions about what ratios to employ in composing, we might categorize tuplets based on their prolation ratios (number of equal pulses to fit inside a timespan) or their subdivided timespan ratios.\n",
    "\n",
    "Categories of tuplet prolation ratio:\n",
    "* augmentation (compression)\n",
    "    * superparticular ($a+1:a$)\n",
    "* trivial ($1:1$)\n",
    "* diminution (rarefaction)\n",
    "    * superparticular ($a:a+1$)\n",
    "    \n",
    "    \n",
    "Categories of timespan ratios:\n",
    "* symmetric, \n",
    "* asymmetric\n",
    "    * ordered\n",
    "        * ascending\n",
    "        * descending\n",
    "    * unordered\n",
    "        * left heavy\n",
    "        * right heavy\n",
    "        \n",
    "When selecting from a large set of possibilities, we might filter that set based on certain characteristics:\n",
    "* are all elements unique\n",
    "* length\n",
    "* 'symmetric'\n",
    "* shape\n",
    "    * '–'\n",
    "    * '|'\n",
    "    * '<'\n",
    "    * '>'\n",
    "    * '<>'\n",
    "    * '><'"
   ]
  },
  {
   "cell_type": "markdown",
   "metadata": {},
   "source": [
    "# Generating and notating tuplets algorithmically with Abjad"
   ]
  },
  {
   "cell_type": "code",
   "execution_count": 48,
   "metadata": {
    "collapsed": false
   },
   "outputs": [
    {
     "name": "stdout",
     "output_type": "stream",
     "text": [
      "The abjad.ext.ipython extension is already loaded. To reload it, use:\n",
      "  %reload_ext abjad.ext.ipython\n"
     ]
    }
   ],
   "source": [
    "import random\n",
    "from abjad import *\n",
    "%load_ext abjad.ext.ipython\n",
    "rnd = random.randint\n",
    "choice = random.choice"
   ]
  },
  {
   "cell_type": "markdown",
   "metadata": {},
   "source": [
    "## Define specifiers, masks"
   ]
  },
  {
   "cell_type": "code",
   "execution_count": 49,
   "metadata": {
    "collapsed": false
   },
   "outputs": [],
   "source": [
    "beam_specifier = rhythmmakertools.BeamSpecifier(\n",
    "    beam_each_division=True,\n",
    "    beam_divisions_together=False,\n",
    "    use_feather_beams=False,\n",
    ")"
   ]
  },
  {
   "cell_type": "code",
   "execution_count": 50,
   "metadata": {
    "collapsed": false
   },
   "outputs": [],
   "source": [
    "duration_spelling_specifier = rhythmmakertools.DurationSpellingSpecifier(\n",
    "    decrease_durations_monotonically=True,\n",
    "    forbid_meter_rewriting=False,\n",
    "    forbidden_written_duration=None,\n",
    "    rewrite_meter=True,\n",
    "    spell_metrically='unassignable'\n",
    ")"
   ]
  },
  {
   "cell_type": "code",
   "execution_count": 51,
   "metadata": {
    "collapsed": true
   },
   "outputs": [],
   "source": [
    "tie_specifier = rhythmmakertools.TieSpecifier(\n",
    "    strip_ties=False,\n",
    "    tie_across_divisions=False,\n",
    "    use_messiaen_style_ties=True,\n",
    ")"
   ]
  },
  {
   "cell_type": "code",
   "execution_count": 52,
   "metadata": {
    "collapsed": false
   },
   "outputs": [],
   "source": [
    "tuplet_spelling_specifier = rhythmmakertools.TupletSpellingSpecifier(\n",
    "    avoid_dots=True, \n",
    "    flatten_trivial_tuplets=True,\n",
    "    is_diminution=True,\n",
    "    simplify_tuplets=True,\n",
    "    use_note_duration_bracket=False\n",
    ")"
   ]
  },
  {
   "cell_type": "code",
   "execution_count": 53,
   "metadata": {
    "collapsed": false
   },
   "outputs": [],
   "source": [
    "silence_mask = rhythmmakertools.SilenceMask(\n",
    "    indices=[1],\n",
    "    period=5\n",
    ")"
   ]
  },
  {
   "cell_type": "code",
   "execution_count": 54,
   "metadata": {
    "collapsed": false
   },
   "outputs": [],
   "source": [
    "sustain_mask = rhythmmakertools.SustainMask(\n",
    "    indices=[2],\n",
    "    period=5\n",
    ")"
   ]
  },
  {
   "cell_type": "markdown",
   "metadata": {},
   "source": [
    "## Some sequence-making helper functions"
   ]
  },
  {
   "cell_type": "code",
   "execution_count": 55,
   "metadata": {
    "collapsed": true
   },
   "outputs": [],
   "source": [
    "def ones(n):\n",
    "    return [1] * n"
   ]
  },
  {
   "cell_type": "code",
   "execution_count": 56,
   "metadata": {
    "collapsed": true
   },
   "outputs": [],
   "source": [
    "def incised(n):\n",
    "    if n==1:\n",
    "        l = [1]\n",
    "    elif n==2:\n",
    "        l = [1,1]\n",
    "    else:\n",
    "        l = [1]\n",
    "        l.append(n-3)\n",
    "        l.append(1)\n",
    "    return l"
   ]
  },
  {
   "cell_type": "code",
   "execution_count": 57,
   "metadata": {
    "collapsed": true
   },
   "outputs": [],
   "source": [
    "def superparticular_incised(n):\n",
    "    if n == 1: return [1,1]\n",
    "    if n == 2: return [1,1,1]\n",
    "    else:\n",
    "        l = [1]\n",
    "        l.append(n-1)\n",
    "        l.append(1)\n",
    "        return l"
   ]
  },
  {
   "cell_type": "code",
   "execution_count": 58,
   "metadata": {
    "collapsed": true
   },
   "outputs": [],
   "source": [
    "def subparticular_incised(n):\n",
    "    if n == 1: return [1]\n",
    "    elif n == 2: return [1]\n",
    "    elif n == 3: return [1,1]\n",
    "    else:\n",
    "        l = [1]\n",
    "        l.append(n-3)\n",
    "        l.append(1)\n",
    "        return l"
   ]
  },
  {
   "cell_type": "markdown",
   "metadata": {},
   "source": [
    "## Define the rhythm maker, make a rhythm"
   ]
  },
  {
   "cell_type": "code",
   "execution_count": 59,
   "metadata": {
    "collapsed": false
   },
   "outputs": [],
   "source": [
    "measures = [TimeSignature(x) for x in [(2,8),(3,8),(2,4),(5,8),(3,4)]]"
   ]
  },
  {
   "cell_type": "code",
   "execution_count": 60,
   "metadata": {
    "collapsed": false
   },
   "outputs": [],
   "source": [
    "durations = [mathtools.NonreducedFraction(measure).with_denominator(16) for measure in measures]"
   ]
  },
  {
   "cell_type": "code",
   "execution_count": 61,
   "metadata": {
    "collapsed": false
   },
   "outputs": [],
   "source": [
    "ratios = [superparticular_incised(d.numerator) for d in durations]"
   ]
  },
  {
   "cell_type": "code",
   "execution_count": 62,
   "metadata": {
    "collapsed": false
   },
   "outputs": [],
   "source": [
    "maker = rhythmmakertools.TupletRhythmMaker(\n",
    "    tuplet_ratios=ratios,\n",
    "    beam_specifier=beam_specifier,\n",
    "    duration_spelling_specifier=duration_spelling_specifier,\n",
    "    output_masks=[silence_mask, sustain_mask],\n",
    "    preferred_denominator=None,\n",
    "    tie_specifier=tie_specifier,\n",
    "    tuplet_spelling_specifier=tuplet_spelling_specifier,\n",
    ")"
   ]
  },
  {
   "cell_type": "code",
   "execution_count": 63,
   "metadata": {
    "collapsed": false
   },
   "outputs": [],
   "source": [
    "music = maker(measures)"
   ]
  },
  {
   "cell_type": "code",
   "execution_count": 64,
   "metadata": {
    "collapsed": true
   },
   "outputs": [],
   "source": [
    "staff = Staff()"
   ]
  },
  {
   "cell_type": "code",
   "execution_count": 65,
   "metadata": {
    "collapsed": false
   },
   "outputs": [],
   "source": [
    "for chunk,ts in zip(music,measures):\n",
    "    measure = Measure(ts, chunk)\n",
    "    staff.append(measure)"
   ]
  },
  {
   "cell_type": "code",
   "execution_count": 67,
   "metadata": {
    "collapsed": false
   },
   "outputs": [
    {
     "data": {
      "image/png": "[encoded data removed]"
     },
     "metadata": {},
     "output_type": "display_data"
    }
   ],
   "source": [
    "show(staff)"
   ]
  },
  {
   "cell_type": "code",
   "execution_count": null,
   "metadata": {
    "collapsed": true
   },
   "outputs": [],
   "source": []
  }
 ],
 "metadata": {
  "kernelspec": {
   "display_name": "Python 2",
   "language": "python",
   "name": "python2"
  },
  "language_info": {
   "codemirror_mode": {
    "name": "ipython",
    "version": 2
   },
   "file_extension": ".py",
   "mimetype": "text/x-python",
   "name": "python",
   "nbconvert_exporter": "python",
   "pygments_lexer": "ipython2",
   "version": "2.7.11"
  }
 },
 "nbformat": 4,
 "nbformat_minor": 0
}
