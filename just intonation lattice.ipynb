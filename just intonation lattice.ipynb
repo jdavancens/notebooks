{
 "cells": [
  {
   "cell_type": "markdown",
   "metadata": {},
   "source": [
    "# Arranging frequency ratios in a discrete 2D plane to represent a harmonic space"
   ]
  },
  {
   "cell_type": "code",
   "execution_count": 23,
   "metadata": {
    "collapsed": false
   },
   "outputs": [],
   "source": [
    "import itertools\n",
    "from fractions import Fraction\n",
    "import matplotlib.pyplot as plt\n",
    "%matplotlib inline"
   ]
  },
  {
   "cell_type": "markdown",
   "metadata": {},
   "source": [
    "## Representing a frequency ratio as a fraction: $ \\frac {f_0}{f_1} $"
   ]
  },
  {
   "cell_type": "code",
   "execution_count": 34,
   "metadata": {
    "collapsed": false
   },
   "outputs": [],
   "source": [
    "f0 = 200\n",
    "f1 = 300\n",
    "ratio = Fraction(f0,f1)"
   ]
  },
  {
   "cell_type": "markdown",
   "metadata": {},
   "source": [
    "Python's Fraction class automatically reduces fractions"
   ]
  },
  {
   "cell_type": "code",
   "execution_count": 35,
   "metadata": {
    "collapsed": false
   },
   "outputs": [
    {
     "name": "stdout",
     "output_type": "stream",
     "text": [
      "2/3\n"
     ]
    }
   ],
   "source": [
    "print(ratio)"
   ]
  },
  {
   "cell_type": "markdown",
   "metadata": {},
   "source": [
    "### Accounting for octave equivalence? $\\frac{1}{1} \\equiv \\frac{2}{1} \\equiv \\frac{4}{1}$\n",
    "Something like $ \\frac{a^i}{b^i} \\times 2^{-i}$"
   ]
  },
  {
   "cell_type": "markdown",
   "metadata": {},
   "source": [
    "## Representing a frequency ratio as a prime decomposition: $x=2^p3^q5^r$"
   ]
  },
  {
   "cell_type": "code",
   "execution_count": 38,
   "metadata": {
    "collapsed": false
   },
   "outputs": [],
   "source": [
    "def prime_product(p,q,r):\n",
    "    return (2**p) * (3**q) * (5**r)"
   ]
  },
  {
   "cell_type": "markdown",
   "metadata": {},
   "source": [
    "### Show all possibilities of powers p,q,r = [-2...2]\n",
    " (-2, -2, -2)\n",
    " (-2, -2, -1)\n",
    " (-2, -1, -2)\n",
    " (-1, -2, -2) \n",
    " ...\n",
    " (2, 2, 2)"
   ]
  },
  {
   "cell_type": "code",
   "execution_count": 43,
   "metadata": {
    "collapsed": false
   },
   "outputs": [
    {
     "name": "stdout",
     "output_type": "stream",
     "text": [
      "(-2, -2, -2)    0.00111111111111\n",
      "(-2, -2, -1)    0.00555555555556\n",
      "(-2, -2, 0)    0.0277777777778\n",
      "(-2, -2, 1)    0.138888888889\n",
      "(-2, -2, 2)    0.694444444444\n",
      "(-2, -1, -2)    0.00333333333333\n",
      "(-2, -1, -1)    0.0166666666667\n",
      "(-2, -1, 0)    0.0833333333333\n",
      "(-2, -1, 1)    0.416666666667\n",
      "(-2, -1, 2)    2.08333333333\n",
      "(-2, 0, -2)    0.01\n",
      "(-2, 0, -1)    0.05\n",
      "(-2, 0, 0)    0.25\n",
      "(-2, 0, 1)    1.25\n",
      "(-2, 0, 2)    6.25\n",
      "(-2, 1, -2)    0.03\n",
      "(-2, 1, -1)    0.15\n",
      "(-2, 1, 0)    0.75\n",
      "(-2, 1, 1)    3.75\n",
      "(-2, 1, 2)    18.75\n",
      "(-2, 2, -2)    0.09\n",
      "(-2, 2, -1)    0.45\n",
      "(-2, 2, 0)    2.25\n",
      "(-2, 2, 1)    11.25\n",
      "(-2, 2, 2)    56.25\n",
      "(-1, -2, -2)    0.00222222222222\n",
      "(-1, -2, -1)    0.0111111111111\n",
      "(-1, -2, 0)    0.0555555555556\n",
      "(-1, -2, 1)    0.277777777778\n",
      "(-1, -2, 2)    1.38888888889\n",
      "(-1, -1, -2)    0.00666666666667\n",
      "(-1, -1, -1)    0.0333333333333\n",
      "(-1, -1, 0)    0.166666666667\n",
      "(-1, -1, 1)    0.833333333333\n",
      "(-1, -1, 2)    4.16666666667\n",
      "(-1, 0, -2)    0.02\n",
      "(-1, 0, -1)    0.1\n",
      "(-1, 0, 0)    0.5\n",
      "(-1, 0, 1)    2.5\n",
      "(-1, 0, 2)    12.5\n",
      "(-1, 1, -2)    0.06\n",
      "(-1, 1, -1)    0.3\n",
      "(-1, 1, 0)    1.5\n",
      "(-1, 1, 1)    7.5\n",
      "(-1, 1, 2)    37.5\n",
      "(-1, 2, -2)    0.18\n",
      "(-1, 2, -1)    0.9\n",
      "(-1, 2, 0)    4.5\n",
      "(-1, 2, 1)    22.5\n",
      "(-1, 2, 2)    112.5\n",
      "(0, -2, -2)    0.00444444444444\n",
      "(0, -2, -1)    0.0222222222222\n",
      "(0, -2, 0)    0.111111111111\n",
      "(0, -2, 1)    0.555555555556\n",
      "(0, -2, 2)    2.77777777778\n",
      "(0, -1, -2)    0.0133333333333\n",
      "(0, -1, -1)    0.0666666666667\n",
      "(0, -1, 0)    0.333333333333\n",
      "(0, -1, 1)    1.66666666667\n",
      "(0, -1, 2)    8.33333333333\n",
      "(0, 0, -2)    0.04\n",
      "(0, 0, -1)    0.2\n",
      "(0, 0, 0)    1\n",
      "(0, 0, 1)    5\n",
      "(0, 0, 2)    25\n",
      "(0, 1, -2)    0.12\n",
      "(0, 1, -1)    0.6\n",
      "(0, 1, 0)    3\n",
      "(0, 1, 1)    15\n",
      "(0, 1, 2)    75\n",
      "(0, 2, -2)    0.36\n",
      "(0, 2, -1)    1.8\n",
      "(0, 2, 0)    9\n",
      "(0, 2, 1)    45\n",
      "(0, 2, 2)    225\n",
      "(1, -2, -2)    0.00888888888889\n",
      "(1, -2, -1)    0.0444444444444\n",
      "(1, -2, 0)    0.222222222222\n",
      "(1, -2, 1)    1.11111111111\n",
      "(1, -2, 2)    5.55555555556\n",
      "(1, -1, -2)    0.0266666666667\n",
      "(1, -1, -1)    0.133333333333\n",
      "(1, -1, 0)    0.666666666667\n",
      "(1, -1, 1)    3.33333333333\n",
      "(1, -1, 2)    16.6666666667\n",
      "(1, 0, -2)    0.08\n",
      "(1, 0, -1)    0.4\n",
      "(1, 0, 0)    2\n",
      "(1, 0, 1)    10\n",
      "(1, 0, 2)    50\n",
      "(1, 1, -2)    0.24\n",
      "(1, 1, -1)    1.2\n",
      "(1, 1, 0)    6\n",
      "(1, 1, 1)    30\n",
      "(1, 1, 2)    150\n",
      "(1, 2, -2)    0.72\n",
      "(1, 2, -1)    3.6\n",
      "(1, 2, 0)    18\n",
      "(1, 2, 1)    90\n",
      "(1, 2, 2)    450\n",
      "(2, -2, -2)    0.0177777777778\n",
      "(2, -2, -1)    0.0888888888889\n",
      "(2, -2, 0)    0.444444444444\n",
      "(2, -2, 1)    2.22222222222\n",
      "(2, -2, 2)    11.1111111111\n",
      "(2, -1, -2)    0.0533333333333\n",
      "(2, -1, -1)    0.266666666667\n",
      "(2, -1, 0)    1.33333333333\n",
      "(2, -1, 1)    6.66666666667\n",
      "(2, -1, 2)    33.3333333333\n",
      "(2, 0, -2)    0.16\n",
      "(2, 0, -1)    0.8\n",
      "(2, 0, 0)    4\n",
      "(2, 0, 1)    20\n",
      "(2, 0, 2)    100\n",
      "(2, 1, -2)    0.48\n",
      "(2, 1, -1)    2.4\n",
      "(2, 1, 0)    12\n",
      "(2, 1, 1)    60\n",
      "(2, 1, 2)    300\n",
      "(2, 2, -2)    1.44\n",
      "(2, 2, -1)    7.2\n",
      "(2, 2, 0)    36\n",
      "(2, 2, 1)    180\n",
      "(2, 2, 2)    900\n"
     ]
    }
   ],
   "source": [
    "base_frequency = 100\n",
    "e = range(-2,3)\n",
    "pds = [cp for cp in itertools.product(e, repeat=3)]\n",
    "floats = [prime_product(power[0], power[1], power[2]) for power in powers]\n",
    "for pd, flt in zip(pds,floats):\n",
    "    print('{}    {}'.format(pd, flt))\n"
   ]
  },
  {
   "cell_type": "markdown",
   "metadata": {
    "collapsed": true
   },
   "source": [
    "## Octave equivalence?"
   ]
  },
  {
   "cell_type": "markdown",
   "metadata": {
    "collapsed": true
   },
   "source": [
    "# James Tenney's *Harmonic Distance Function*\n",
    "$$ HD(\\frac{a}{b})=\\log{ab}$$"
   ]
  },
  {
   "cell_type": "code",
   "execution_count": 44,
   "metadata": {
    "collapsed": true
   },
   "outputs": [],
   "source": [
    "def hd(a,b):\n",
    "    return log(a*b)"
   ]
  },
  {
   "cell_type": "code",
   "execution_count": null,
   "metadata": {
    "collapsed": true
   },
   "outputs": [],
   "source": []
  }
 ],
 "metadata": {
  "kernelspec": {
   "display_name": "Python 2",
   "language": "python",
   "name": "python2"
  },
  "language_info": {
   "codemirror_mode": {
    "name": "ipython",
    "version": 2
   },
   "file_extension": ".py",
   "mimetype": "text/x-python",
   "name": "python",
   "nbconvert_exporter": "python",
   "pygments_lexer": "ipython2",
   "version": "2.7.11"
  }
 },
 "nbformat": 4,
 "nbformat_minor": 0
}
