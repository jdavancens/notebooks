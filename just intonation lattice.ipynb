{
 "cells": [
  {
   "cell_type": "code",
   "execution_count": 6,
   "metadata": {
    "collapsed": false
   },
   "outputs": [],
   "source": [
    "import matplotlib as mpl\n",
    "from mpl_toolkits.mplot3d import Axes3D\n",
    "import matplotlib.pyplot as plt\n",
    "%matplotlib inline\n",
    "import itertools,random\n"
   ]
  },
  {
   "cell_type": "markdown",
   "metadata": {},
   "source": [
    "# Represent a ratio as a product of exponentiated prime factors\n",
    "$$ r=2^p3^q5^r$$"
   ]
  },
  {
   "cell_type": "code",
   "execution_count": 7,
   "metadata": {
    "collapsed": false
   },
   "outputs": [],
   "source": [
    "def prime_product(p1,p2,p3):\n",
    "    return (2**p1) * (3**p2) * (5**p3)"
   ]
  },
  {
   "cell_type": "markdown",
   "metadata": {},
   "source": [
    "# Show all combinations of powers p,q,r = [-2...2]\n",
    " (-2, -2, -2)\n",
    " (-2, -2, -1)\n",
    " (-2, -1, -2)\n",
    " (-1, -2, -2) \n",
    " ...\n",
    " (2, 2, 2)"
   ]
  },
  {
   "cell_type": "code",
   "execution_count": 18,
   "metadata": {
    "collapsed": false
   },
   "outputs": [
    {
     "name": "stdout",
     "output_type": "stream",
     "text": [
      "[0.0011111111111111111, 0.005555555555555556, 0.027777777777777776, 0.1388888888888889, 0.6944444444444444, 0.003333333333333333, 0.016666666666666666, 0.08333333333333333, 0.41666666666666663, 2.083333333333333, 0.01, 0.05, 0.25, 1.25, 6.25, 0.03, 0.15000000000000002, 0.75, 3.75, 18.75, 0.09, 0.45, 2.25, 11.25, 56.25, 0.0022222222222222222, 0.011111111111111112, 0.05555555555555555, 0.2777777777777778, 1.3888888888888888, 0.006666666666666666, 0.03333333333333333, 0.16666666666666666, 0.8333333333333333, 4.166666666666666, 0.02, 0.1, 0.5, 2.5, 12.5, 0.06, 0.30000000000000004, 1.5, 7.5, 37.5, 0.18, 0.9, 4.5, 22.5, 112.5, 0.0044444444444444444, 0.022222222222222223, 0.1111111111111111, 0.5555555555555556, 2.7777777777777777, 0.013333333333333332, 0.06666666666666667, 0.3333333333333333, 1.6666666666666665, 8.333333333333332, 0.04, 0.2, 1, 5, 25, 0.12, 0.6000000000000001, 3, 15, 75, 0.36, 1.8, 9, 45, 225, 0.008888888888888889, 0.044444444444444446, 0.2222222222222222, 1.1111111111111112, 5.555555555555555, 0.026666666666666665, 0.13333333333333333, 0.6666666666666666, 3.333333333333333, 16.666666666666664, 0.08, 0.4, 2, 10, 50, 0.24, 1.2000000000000002, 6, 30, 150, 0.72, 3.6, 18, 90, 450, 0.017777777777777778, 0.08888888888888889, 0.4444444444444444, 2.2222222222222223, 11.11111111111111, 0.05333333333333333, 0.26666666666666666, 1.3333333333333333, 6.666666666666666, 33.33333333333333, 0.16, 0.8, 4, 20, 100, 0.48, 2.4000000000000004, 12, 60, 300, 1.44, 7.2, 36, 180, 900]\n"
     ]
    }
   ],
   "source": [
    "base_frequency = 100\n",
    "powers = range(-2,3)\n",
    "cartesian_products = [cp for cp in itertools.product(powers, repeat=3)]\n",
    "ratios = [prime_product(cp[0], cp[1], cp[2]) for cp in cartesian_products]\n",
    "print(ratios)"
   ]
  },
  {
   "cell_type": "markdown",
   "metadata": {
    "collapsed": true
   },
   "source": [
    "# How do you fold these down to 1 <= x <= 2?"
   ]
  },
  {
   "cell_type": "code",
   "execution_count": null,
   "metadata": {
    "collapsed": true
   },
   "outputs": [],
   "source": []
  }
 ],
 "metadata": {
  "kernelspec": {
   "display_name": "Python 2",
   "language": "python",
   "name": "python2"
  },
  "language_info": {
   "codemirror_mode": {
    "name": "ipython",
    "version": 2
   },
   "file_extension": ".py",
   "mimetype": "text/x-python",
   "name": "python",
   "nbconvert_exporter": "python",
   "pygments_lexer": "ipython2",
   "version": "2.7.11"
  }
 },
 "nbformat": 4,
 "nbformat_minor": 0
}
